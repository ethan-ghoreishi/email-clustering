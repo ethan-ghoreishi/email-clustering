{
 "cells": [
  {
   "cell_type": "code",
   "execution_count": 3,
   "metadata": {},
   "outputs": [
    {
     "data": {
      "text/plain": [
       "array(['allen-p/_sent_mail/10.',\n",
       "       \"Message-ID: <15464986.1075855378456.JavaMail.evans@thyme>\\nDate: Fri, 4 May 2001 13:51:00 -0700 (PDT)\\nFrom: phillip.allen@enron.com\\nTo: john.lavorato@enron.com\\nSubject: Re:\\nMime-Version: 1.0\\nContent-Type: text/plain; charset=us-ascii\\nContent-Transfer-Encoding: 7bit\\nX-From: Phillip K Allen\\nX-To: John J Lavorato <John J Lavorato/ENRON@enronXgate@ENRON>\\nX-cc: \\nX-bcc: \\nX-Folder: \\\\Phillip_Allen_Jan2002_1\\\\Allen, Phillip K.\\\\'Sent Mail\\nX-Origin: Allen-P\\nX-FileName: pallen (Non-Privileged).pst\\n\\nTraveling to have a business meeting takes the fun out of the trip.  Especially if you have to prepare a presentation.  I would suggest holding the business plan meetings here then take a trip without any formal business meetings.  I would even try and get some honest opinions on whether a trip is even desired or necessary.\\n\\nAs far as the business meetings, I think it would be more productive to try and stimulate discussions across the different groups about what is working and what is not.  Too often the presenter speaks and the others are quiet just waiting for their turn.   The meetings might be better if held in a round table discussion format.  \\n\\nMy suggestion for where to go is Austin.  Play golf and rent a ski boat and jet ski's.  Flying somewhere takes too much time.\\n\"],\n",
       "      dtype=object)"
      ]
     },
     "execution_count": 3,
     "metadata": {},
     "output_type": "execute_result"
    }
   ],
   "source": [
    "import pandas as pd\n",
    "\n",
    "data = pd.read_csv('./input/emails.csv')\n",
    "data.values[1]"
   ]
  },
  {
   "cell_type": "code",
   "execution_count": null,
   "metadata": {},
   "outputs": [],
   "source": [
    "subject_regex = re.compile('([\\[\\(] *)?.*(RE?S?|FWD?|re\\[\\d+\\]?) *([-:;)\\]][ :;\\])-]*|$)|\\]+ *$', flags=re.IGNORECASE)"
   ]
  },
  {
   "cell_type": "code",
   "execution_count": null,
   "metadata": {},
   "outputs": [],
   "source": [
    "a = data[:10]"
   ]
  },
  {
   "cell_type": "code",
   "execution_count": 261,
   "metadata": {},
   "outputs": [
    {
     "name": "stdout",
     "output_type": "stream",
     "text": [
      "Message-ID: <33076797.1075855687515.JavaMail.evans@thyme>\n",
      "Date: Mon, 16 Oct 2000 06:42:00 -0700 (PDT)\n",
      "From: phillip.allen@enron.com\n",
      "To: buck.buckner@honeywell.com\n",
      "Subject: Re: FW: fixed forward or other Collar floor gas price terms\n",
      "Mime-Version: 1.0\n",
      "Content-Type: text/plain; charset=us-ascii\n",
      "Content-Transfer-Encoding: 7bit\n",
      "X-From: Phillip K Allen\n",
      "X-To: \"Buckner, Buck\" <buck.buckner@honeywell.com> @ ENRON\n",
      "X-cc: \n",
      "X-bcc: \n",
      "X-Folder: \\Phillip_Allen_Dec2000\\Notes Folders\\'sent mail\n",
      "X-Origin: Allen-P\n",
      "X-FileName: pallen.nsf\n",
      "\n",
      "Mr. Buckner,\n",
      "\n",
      " For delivered gas behind San Diego, Enron Energy Services is the appropriate \n",
      "Enron entity.  I have forwarded your request to Zarin Imam at EES.  Her phone \n",
      "number is 713-853-7107.  \n",
      "\n",
      "Phillip Allen\n",
      "None\n"
     ]
    }
   ],
   "source": [
    "subject_regex = re.compile('([\\[\\(] *)?.*(RE?S?|FWD?|re\\[\\d+\\]?) *([-:;)\\]][ :;\\])-]*|$)|\\]+ * (.*) $', flags=re.IGNORECASE)\n",
    "print(emails.message[10])\n",
    "a = re.compile('^.*\\b(Subject|Re|FW)\\b.*$')\n",
    "print(re.match(a, emails['message'][10]))\n",
    "# re.search(subject_regex, emails['message'][10]).group(0)"
   ]
  },
  {
   "cell_type": "code",
   "execution_count": 77,
   "metadata": {},
   "outputs": [
    {
     "name": "stdout",
     "output_type": "stream",
     "text": [
      "There are a total of 248912 non-duplicate emails\n",
      "\n",
      "Sample email, unstructured content:\n",
      "\n",
      " ['phillip.allen@enron.com', 'john.lavorato@enron.com', \"Traveling to have a business meeting takes the fun out of the trip.  Especially if you have to prepare a presentation.  I would suggest holding the business plan meetings here then take a trip without any formal business meetings.  I would even try and get some honest opinions on whether a trip is even desired or necessary.  As far as the business meetings, I think it would be more productive to try and stimulate discussions across the different groups about what is working and what is not.  Too often the presenter speaks and the others are quiet just waiting for their turn.   The meetings might be better if held in a round table discussion format.    My suggestion for where to go is Austin.  Play golf and rent a ski boat and jet ski's.  Flying somewhere takes too much time. \"]\n"
     ]
    }
   ],
   "source": [
    "import numpy as np\n",
    "import pandas as pd\n",
    "import re\n",
    "\n",
    "def extract_csv_data(file, cols_to_clean = [], exclude = [[]]):\n",
    "    data = pd.read_csv(file)\n",
    "\n",
    "    for i, col in enumerate(cols_to_clean):\n",
    "        exclude_pattern = re.compile('|'.join(exclude[i]))\n",
    "        data = data[data[col].str.contains(exclude_pattern) == False]\n",
    "\n",
    "    return data\n",
    "\n",
    "# Input data files are available in the \"./input/\" directory.\n",
    "\n",
    "# emails = extract_csv_data(\n",
    "#     './input/emails.csv',\n",
    "#     ['file'],\n",
    "#     [['notes_inbox', 'discussion_threads']]\n",
    "# )\n",
    "\n",
    "def remove_duplicates(data):\n",
    "    processed = set()\n",
    "    result = []\n",
    "    \n",
    "    from_regex = re.compile(r'From:\\s(\\w)+(\\.)?(\\w)*@(\\w)+.com')\n",
    "    to_regex = re.compile(r'To:\\s(\\w)+(\\.)?(\\w)*@(\\w)+.com')\n",
    "    subject_regex = re.compile('([\\[\\(] *)?.*(RE?S?|FWD?|re\\[\\d+\\]?) *([-:;)\\]][ :;\\])-]*|$)|\\]+ *$', re.IGNORECASE)\n",
    "    pattern = re.compile('X-FileName: .*')\n",
    "    pattern2 = re.compile('X-FileName: .*?  ')\n",
    "\n",
    "    for doc in data:\n",
    "        from_email_address = from_regex.search(doc)\n",
    "        from_email_address = from_email_address.group(0).replace('From: ','',1) if from_email_address is not None else ''\n",
    "        to_email_address = to_regex.search(doc)\n",
    "        to_email_address = to_email_address.group(0).replace('To: ','',1) if to_email_address is not None else ''\n",
    "        subject_line = subject_regex.search(doc)\n",
    "        doc = doc.replace('\\n', ' ')\n",
    "        doc = doc.replace(' .*?nsf', '')\n",
    "        match = pattern.search(doc).group(0)\n",
    "        match = re.sub(pattern2, '', match)\n",
    "\n",
    "        if match not in processed:\n",
    "            processed.add(match)\n",
    "            result.append([from_email_address, to_email_address, match])\n",
    "\n",
    "    return result\n",
    "\n",
    "email_bodies = emails.message.as_matrix()\n",
    "unique_emails = remove_duplicates(email_bodies)\n",
    "\n",
    "print('There are a total of {} non-duplicate emails\\n'.format(len(unique_emails)))\n",
    "print('Sample email, unstructured content:\\n\\n', unique_emails[1])"
   ]
  },
  {
   "cell_type": "code",
   "execution_count": 80,
   "metadata": {},
   "outputs": [
    {
     "name": "stdout",
     "output_type": "stream",
     "text": [
      "There are a total of 248912 non-duplicate emails\n",
      "\n",
      "Sample email, unstructured content:\n",
      "\n",
      " ['phillip.allen@enron.com', 'cooper.richey@enron.com', \"I tried the new address but I don't have access.  also, what do I need to  enter under domain?\"]\n"
     ]
    }
   ],
   "source": [
    "print('There are a total of {} non-duplicate emails\\n'.format(len(unique_emails)))\n",
    "print('Sample email, unstructured content:\\n\\n', unique_emails[100])"
   ]
  },
  {
   "cell_type": "code",
   "execution_count": 47,
   "metadata": {},
   "outputs": [
    {
     "name": "stdout",
     "output_type": "stream",
     "text": [
      "['traveling', 'business', 'meeting', 'take', 'fun', 'trip', 'especially', 'prepare', 'presentation', 'would', 'suggest', 'holding', 'business', 'plan', 'meeting', 'take', 'trip', 'without', 'formal', 'business', 'meeting', 'would', 'even', 'try', 'get', 'honest', 'opinion', 'whether', 'trip', 'even', 'desired', 'necessary', 'far', 'business', 'meeting', 'think', 'would', 'productive', 'try', 'stimulate', 'discussion', 'across', 'different', 'group', 'working', 'not', 'often', 'presenter', 'speaks', 'others', 'quiet', 'waiting', 'turn', 'meeting', 'might', 'better', 'held', 'round', 'table', 'discussion', 'format', 'suggestion', 'go', 'austin', 'play', 'golf', 'rent', 'ski', 'boat', 'jet', 'ski', 'flying', 'somewhere', 'take', 'much', 'time']\n"
     ]
    }
   ],
   "source": [
    "## Cleaning and Lemmatizing\n",
    "\n",
    "from nltk.corpus import stopwords\n",
    "from nltk.stem.wordnet import WordNetLemmatizer\n",
    "import string\n",
    "\n",
    "def clean(doc):\n",
    "    words_to_exclude = set(stopwords.words('english'))\n",
    "    exclude = set(string.punctuation)\n",
    "    lemma = WordNetLemmatizer()\n",
    "\n",
    "    word_free = \" \".join([i for i in doc.lower().split() if i not in words_to_exclude])\n",
    "    punc_free = ''.join(ch for ch in word_free if ch not in exclude)\n",
    "    normalized = \" \".join(lemma.lemmatize(word) for word in punc_free.split())\n",
    "\n",
    "    return normalized\n",
    "\n",
    "def clean_data(data):\n",
    "    return [clean(doc).split(' ') for doc in data]\n",
    "\n",
    "training_set = clean_data(unique_emails[0:200000])\n",
    "testing_set = clean_data(unique_emails[200000:])\n",
    "\n",
    "print(training_set[1])"
   ]
  },
  {
   "cell_type": "code",
   "execution_count": 48,
   "metadata": {},
   "outputs": [
    {
     "name": "stdout",
     "output_type": "stream",
     "text": [
      "Dictionary(47483 unique tokens: ['', 'servicesenron', 'olsennaenronenron', 'keiths', '2x']...)\n"
     ]
    }
   ],
   "source": [
    "## Creating a dictionary\n",
    "\n",
    "import gensim\n",
    "\n",
    "dictionary = gensim.corpora.Dictionary(training_set)\n",
    "dictionary.filter_extremes(no_below=20, no_above=0.1)\n",
    "\n",
    "print(dictionary)"
   ]
  },
  {
   "cell_type": "code",
   "execution_count": 49,
   "metadata": {},
   "outputs": [
    {
     "name": "stdout",
     "output_type": "stream",
     "text": [
      "(0, '0.118*\"20\" + 0.101*\"agreement\" + 0.095*\"intended\" + 0.092*\"california\" + 0.089*\"recipient\" + 0.087*\"employee\" + 0.086*\"price\" + 0.085*\"deal\" + 0.083*\"said\" + 0.073*\"image\"')\n",
      "(1, '-0.284*\"perlingiere\" + -0.282*\"7138537658\" + -0.282*\"3885\" + -0.274*\"debra\" + -0.271*\"7136463490\" + -0.252*\"dperlinenroncom\" + -0.247*\"77002\" + -0.246*\"1400\" + -0.230*\"eb\" + -0.202*\"smith\"')\n",
      "(2, '-0.311*\"hourahead\" + -0.306*\"variance\" + -0.269*\"schedule\" + -0.268*\"detected\" + -0.265*\"final\" + -0.232*\"schedulingiso\" + -0.232*\"oportlandwestdeskcalifornia\" + -0.230*\"parsing\" + -0.224*\"ancillary\" + -0.221*\"awarded\"')\n",
      "(3, '-0.252*\"employee\" + -0.228*\"million\" + -0.196*\"consumer\" + -0.184*\"fund\" + -0.168*\"donate\" + 0.165*\"intended\" + 0.164*\"recipient\" + -0.163*\"california\" + -0.160*\"declared\" + -0.159*\"retirement\"')\n",
      "(4, '-0.390*\"recipient\" + -0.386*\"intended\" + -0.220*\"or\" + 0.213*\"image\" + -0.166*\"affiliate\" + -0.134*\"confidential\" + -0.132*\"sender\" + -0.128*\"privileged\" + -0.123*\"prohibited\" + -0.119*\"delete\"')\n",
      "(5, '0.915*\"image\" + 0.088*\"click\" + 0.073*\"recipient\" + 0.070*\"intended\" + -0.062*\"description\" + 0.061*\"offer\" + 0.057*\"09\" + 0.049*\"receive\" + -0.047*\"agreement\" + 0.046*\"free\"')\n",
      "(6, '-0.508*\"description\" + -0.315*\"chairperson\" + -0.297*\"migration\" + -0.275*\"appointment\" + -0.268*\"entry\" + -0.258*\"detailed\" + -0.250*\"outlook\" + -0.248*\"calendar\" + -0.232*\"central\" + -0.210*\"standard\"')\n",
      "(7, '-0.342*\"maggi\" + 0.334*\"request\" + -0.249*\"michelle\" + -0.245*\"nelson\" + -0.233*\"mike\" + 0.166*\"resource\" + -0.138*\"blackberry\" + -0.133*\"handheld\" + -0.123*\"november\" + -0.120*\"wwwblackberrynet\"')\n",
      "(8, '-0.396*\"request\" + 0.280*\"20\" + -0.174*\"resource\" + -0.164*\"maggi\" + -0.147*\"agreement\" + 0.144*\"said\" + -0.144*\"michelle\" + -0.131*\"approval\" + -0.125*\"requested\" + -0.124*\"nelson\"')\n",
      "(9, '0.323*\"request\" + -0.265*\"agreement\" + 0.220*\"blackberry\" + 0.214*\"handheld\" + 0.202*\"wireless\" + 0.191*\"wwwblackberrynet\" + -0.183*\"kay\" + 0.167*\"resource\" + 0.158*\"maggi\" + 0.150*\"20\"')\n",
      "(10, '-0.454*\"blackberry\" + -0.441*\"handheld\" + -0.407*\"wireless\" + -0.394*\"wwwblackberrynet\" + 0.203*\"maggi\" + 0.142*\"vince\" + -0.142*\"agreement\" + 0.136*\"nelson\" + 0.128*\"mike\" + 0.114*\"michelle\"')\n",
      "(11, '-0.476*\"vince\" + 0.352*\"maggi\" + 0.250*\"nelson\" + 0.249*\"michelle\" + 0.246*\"20\" + 0.176*\"mike\" + 0.152*\"agreement\" + -0.139*\"j\" + -0.129*\"kaminski\" + 0.104*\"november\"')\n",
      "(12, '0.569*\"vince\" + 0.347*\"20\" + 0.180*\"j\" + 0.158*\"kaminski\" + -0.125*\"kay\" + -0.116*\"im\" + 0.115*\"kaminskihouectect\" + -0.108*\"deal\" + 0.097*\"shirley\" + 0.090*\"maggi\"')\n",
      "(13, '0.508*\"report\" + 0.356*\"expense\" + -0.247*\"request\" + -0.239*\"20\" + 0.171*\"status\" + 0.136*\"employee\" + 0.132*\"concur\" + -0.126*\"resource\" + 0.119*\"amount\" + -0.111*\"kay\"')\n",
      "(14, '-0.295*\"20\" + 0.290*\"kay\" + -0.255*\"tana\" + 0.223*\"vince\" + 0.199*\"agreement\" + -0.166*\"eol\" + -0.149*\"communicationsenron\" + -0.111*\"mark\" + 0.108*\"draft\" + -0.104*\"joneshouectect\"')\n",
      "(15, '-0.524*\"20\" + -0.264*\"kay\" + 0.162*\"california\" + 0.157*\"deal\" + 0.131*\"price\" + 0.119*\"jeff\" + -0.116*\"agreement\" + 0.114*\"said\" + 0.112*\"utility\" + 0.108*\"ferc\"')\n",
      "(16, '0.274*\"report\" + 0.252*\"kay\" + 0.237*\"20\" + 0.227*\"expense\" + 0.183*\"jeff\" + -0.168*\"deal\" + -0.152*\"herein\" + -0.123*\"carr\" + -0.115*\"master\" + -0.113*\"chart\"')\n",
      "(17, '0.512*\"deal\" + 0.212*\"20\" + -0.171*\"herein\" + -0.148*\"jeff\" + -0.137*\"carr\" + 0.136*\"volume\" + -0.129*\"chart\" + 0.124*\"vince\" + 0.119*\"meter\" + -0.116*\"contained\"')\n",
      "(18, '-0.236*\"herein\" + -0.198*\"deal\" + -0.192*\"carr\" + -0.187*\"chart\" + -0.158*\"contained\" + -0.149*\"kay\" + 0.146*\"agreement\" + -0.138*\"spread\" + 0.136*\"master\" + 0.132*\"report\"')\n",
      "(19, '0.480*\"td\" + 0.456*\"tr\" + 0.204*\"font\" + 0.197*\"table\" + 0.187*\"border0\" + 0.163*\"facearial\" + 0.137*\"br\" + 0.131*\"classtd2\" + 0.120*\"helvetica\" + 0.120*\"cellspacing0\"')\n",
      "(20, '0.464*\"kay\" + -0.198*\"713\" + 0.195*\"tana\" + 0.152*\"eol\" + 0.126*\"vince\" + 0.124*\"communicationsenron\" + -0.116*\"sara\" + 0.109*\"said\" + 0.100*\"deal\" + -0.095*\"jeff\"')\n",
      "(21, '-0.187*\"jeff\" + -0.168*\"20\" + 0.161*\"kay\" + -0.155*\"expense\" + -0.149*\"herein\" + -0.147*\"td\" + -0.139*\"tr\" + -0.131*\"sara\" + -0.124*\"carr\" + -0.119*\"report\"')\n",
      "(22, '0.277*\"713\" + -0.216*\"jeff\" + 0.187*\"hourahead\" + -0.164*\"scid\" + -0.163*\"transtype\" + -0.163*\"mkttype\" + -0.163*\"transdate\" + -0.153*\"final\" + 0.148*\"2002\" + -0.134*\"preferred\"')\n",
      "(23, '-0.235*\"hourahead\" + 0.212*\"scid\" + 0.211*\"mkttype\" + 0.211*\"transtype\" + 0.211*\"transdate\" + -0.194*\"jeff\" + 0.174*\"preferred\" + 0.168*\"713\" + 0.165*\"final\" + 0.137*\"found\"')\n",
      "(24, '-0.230*\"jeff\" + -0.167*\"click\" + -0.161*\"fare\" + 0.137*\"said\" + 0.135*\"trading\" + 0.135*\"risk\" + -0.125*\"travel\" + 0.124*\"kay\" + -0.110*\"dasovich\" + -0.108*\"ticket\"')\n",
      "(25, '0.256*\"ce\" + 0.229*\"pl\" + 0.216*\"named\" + 0.198*\"viewing\" + 0.164*\"toute\" + 0.145*\"website\" + 0.142*\"published\" + 0.138*\"de\" + 0.122*\"713\" + -0.120*\"expense\"')\n",
      "(26, '0.256*\"713\" + 0.227*\"jeff\" + 0.212*\"kay\" + 0.203*\"pl\" + 0.191*\"sara\" + -0.172*\"agreement\" + 0.158*\"viewing\" + -0.143*\"ce\" + 0.140*\"website\" + -0.138*\"game\"')\n",
      "(27, '-0.287*\"deal\" + 0.277*\"pl\" + -0.267*\"713\" + 0.214*\"viewing\" + 0.181*\"website\" + 0.170*\"2002\" + 0.163*\"published\" + -0.144*\"expense\" + 0.142*\"named\" + 0.132*\"available\"')\n",
      "(28, '-0.273*\"713\" + 0.242*\"sara\" + 0.217*\"ce\" + 0.193*\"jeff\" + 0.185*\"kay\" + -0.162*\"outage\" + 0.162*\"toute\" + 0.140*\"de\" + 0.123*\"et\" + 0.106*\"isda\"')\n",
      "(29, '-0.253*\"game\" + -0.204*\"updated\" + 0.168*\"ce\" + -0.159*\"wr\" + -0.135*\"fantasy\" + -0.133*\"rb\" + 0.123*\"2002\" + 0.123*\"toute\" + -0.119*\"deal\" + -0.111*\"play\"')\n",
      "(30, '-0.316*\"sara\" + -0.237*\"feedback\" + -0.179*\"pep\" + 0.157*\"jeff\" + 0.137*\"agreement\" + -0.125*\"mailbox\" + -0.123*\"folder\" + -0.119*\"option\" + 0.103*\"deal\" + -0.102*\"process\"')\n",
      "(31, '0.233*\"mailbox\" + 0.229*\"folder\" + 0.170*\"713\" + 0.166*\"item\" + 0.148*\"size\" + -0.142*\"fare\" + -0.136*\"conference\" + 0.134*\"synchronizing\" + -0.134*\"sara\" + 0.131*\"outage\"')\n",
      "(32, '0.424*\"sara\" + -0.235*\"713\" + -0.221*\"feedback\" + -0.178*\"agreement\" + -0.162*\"pep\" + -0.155*\"pl\" + 0.136*\"sarashackletonenroncom\" + 0.127*\"shackleton\" + -0.109*\"master\" + -0.109*\"list\"')\n",
      "(33, '0.298*\"jeff\" + 0.186*\"game\" + 0.162*\"updated\" + 0.139*\"outage\" + 0.128*\"wr\" + 0.127*\"0\" + 0.126*\"dasovich\" + -0.115*\"mailbox\" + 0.110*\"fantasy\" + 0.109*\"best\"')\n",
      "(34, '-0.199*\"outage\" + -0.188*\"database\" + -0.161*\"2002\" + 0.161*\"mailbox\" + -0.157*\"dbcaps97data\" + 0.153*\"folder\" + 0.149*\"713\" + 0.146*\"michelle\" + 0.140*\"item\" + -0.120*\"amanda\"')\n",
      "(35, '-0.187*\"amanda\" + -0.177*\"rybarski\" + 0.166*\"michelle\" + -0.158*\"2002\" + -0.156*\"book\" + 0.126*\"october\" + 0.124*\"november\" + -0.117*\"louise\" + -0.116*\"january\" + 0.115*\"meter\"')\n",
      "(36, '-0.227*\"0\" + -0.138*\"azps\" + -0.128*\"pnpkaps230\" + -0.115*\"na\" + 0.113*\"comment\" + 0.108*\"amanda\" + -0.108*\"mailbox\" + -0.107*\"folder\" + -0.106*\"october\" + 0.103*\"rybarski\"')\n",
      "(37, '0.192*\"conference\" + 0.179*\"tana\" + -0.154*\"713\" + 0.146*\"folder\" + 0.136*\"mailbox\" + 0.135*\"master\" + 0.134*\"october\" + 0.132*\"dbcaps97data\" + 0.132*\"deal\" + 0.129*\"database\"')\n",
      "(38, '-0.197*\"dbcaps97data\" + -0.173*\"download\" + 0.154*\"jeff\" + 0.148*\"amanda\" + -0.147*\"database\" + 0.146*\"rybarski\" + -0.145*\"michelle\" + 0.137*\"chris\" + 0.135*\"2002\" + -0.133*\"hourahead\"')\n",
      "(39, '0.218*\"tana\" + -0.177*\"jeff\" + 0.176*\"mark\" + 0.153*\"deal\" + 0.141*\"0\" + 0.124*\"nda\" + -0.123*\"michelle\" + 0.116*\"comment\" + 0.115*\"draft\" + -0.113*\"communicationsenron\"')\n",
      "(40, '-0.279*\"download\" + -0.223*\"hourahead\" + -0.199*\"intervention\" + -0.193*\"manual\" + 0.189*\"tana\" + -0.169*\"failed\" + -0.169*\"reportxls\" + -0.158*\"communicationsenron\" + -0.150*\"httpexplorermsncomintlasp\" + -0.147*\"msn\"')\n",
      "(41, '-0.263*\"dbcaps97data\" + -0.211*\"tana\" + -0.196*\"database\" + -0.171*\"alias\" + 0.137*\"lenhart\" + -0.135*\"unknown\" + 0.133*\"price\" + 0.133*\"october\" + 0.127*\"erichardsonsarofimcom\" + -0.126*\"mark\"')\n",
      "(42, '0.313*\"mark\" + 0.272*\"chris\" + 0.200*\"price\" + 0.186*\"louise\" + -0.158*\"lynn\" + -0.120*\"credit\" + 0.117*\"kitchen\" + 0.115*\"tana\" + -0.113*\"deal\" + 0.104*\"nda\"')\n",
      "(43, '-0.241*\"chris\" + 0.226*\"amanda\" + 0.221*\"lenhart\" + 0.220*\"erichardsonsarofimcom\" + 0.209*\"mailtomatthewlenhartenroncom\" + 0.206*\"rybarski\" + -0.196*\"michelle\" + 0.192*\"dbcaps97data\" + 0.184*\"matthew\" + 0.159*\"october\"')\n",
      "(44, '-0.217*\"tana\" + 0.211*\"master\" + -0.180*\"letter\" + 0.157*\"amanda\" + -0.150*\"michelle\" + 0.131*\"rybarski\" + 0.128*\"mike\" + 0.124*\"sally\" + -0.124*\"2002\" + 0.123*\"agreement\"')\n",
      "(45, '0.354*\"chris\" + -0.200*\"mark\" + -0.197*\"amanda\" + 0.194*\"dbcaps97data\" + -0.181*\"rybarski\" + 0.149*\"michelle\" + 0.147*\"germany\" + 0.126*\"alias\" + 0.125*\"letter\" + 0.120*\"database\"')\n",
      "(46, '0.247*\"pira\" + 0.164*\"daily\" + 0.159*\"6866808\" + -0.131*\"dbcaps97data\" + 0.130*\"outage\" + 0.128*\"price\" + 0.124*\"distribution\" + -0.122*\"pl\" + 0.119*\"licensed\" + -0.108*\"pge\"')\n",
      "(47, '-0.340*\"louise\" + 0.340*\"task\" + -0.221*\"kitchen\" + -0.178*\"credit\" + 0.168*\"phillip\" + 0.131*\"assignment\" + 0.116*\"gerald\" + 0.112*\"book\" + -0.106*\"deal\" + 0.103*\"darron\"')\n",
      "(48, '-0.301*\"dbcaps97data\" + 0.247*\"task\" + 0.197*\"louise\" + -0.196*\"alias\" + -0.164*\"price\" + 0.156*\"hpl\" + -0.155*\"unknown\" + 0.141*\"sara\" + 0.137*\"outage\" + 0.128*\"kitchen\"')\n",
      "(49, '-0.264*\"hpl\" + 0.224*\"chris\" + -0.177*\"daren\" + -0.174*\"dbcaps97data\" + -0.168*\"meter\" + -0.162*\"teco\" + -0.148*\"louise\" + 0.140*\"task\" + -0.135*\"tap\" + 0.132*\"lynn\"')\n",
      "(50, '0.312*\"enjoy\" + 0.231*\"task\" + -0.205*\"credit\" + -0.196*\"chris\" + 0.160*\"communicationsenron\" + 0.151*\"price\" + 0.143*\"agreement\" + -0.143*\"hpl\" + 0.140*\"communication\" + 0.135*\"louise\"')\n",
      "(51, '-0.630*\"task\" + -0.196*\"assignment\" + 0.173*\"agreement\" + -0.152*\"credit\" + -0.145*\"priority\" + -0.127*\"completed\" + -0.122*\"on\" + 0.109*\"nda\" + 0.105*\"phillip\" + -0.100*\"chris\"')\n",
      "(52, '0.876*\"enjoy\" + -0.105*\"mark\" + -0.093*\"task\" + 0.091*\"chris\" + 0.080*\"credit\" + -0.074*\"communicationsenron\" + 0.072*\"matchcom\" + -0.067*\"password\" + 0.062*\"hourahead\" + 0.059*\"pira\"')\n",
      "(53, '0.272*\"pira\" + -0.236*\"outage\" + -0.227*\"mark\" + -0.223*\"enjoy\" + -0.187*\"gerald\" + 0.178*\"6866808\" + 0.147*\"louise\" + 0.140*\"hpl\" + 0.138*\"212\" + 0.136*\"licensed\"')\n",
      "(54, '-0.329*\"sally\" + -0.256*\"lynn\" + -0.187*\"price\" + 0.173*\"bass\" + 0.158*\"eric\" + -0.135*\"list\" + 0.135*\"louise\" + 0.130*\"2002\" + -0.123*\"blair\" + -0.120*\"chris\"')\n",
      "(55, '0.241*\"gerald\" + -0.188*\"hpl\" + -0.186*\"tana\" + -0.181*\"ben\" + 0.153*\"pira\" + -0.152*\"teco\" + 0.141*\"mark\" + -0.133*\"communication\" + -0.132*\"chris\" + -0.124*\"tap\"')\n",
      "(56, '0.451*\"sally\" + -0.332*\"ben\" + 0.150*\"2002\" + -0.146*\"teco\" + -0.145*\"hpl\" + -0.135*\"presentation\" + -0.134*\"pl\" + -0.129*\"louise\" + -0.112*\"tap\" + -0.106*\"phillip\"')\n",
      "(57, '-0.440*\"bass\" + -0.353*\"eric\" + 0.219*\"hpl\" + 0.209*\"mark\" + -0.195*\"ericbassenroncom\" + 0.170*\"teco\" + 0.146*\"tap\" + -0.127*\"lynn\" + -0.121*\"daphneco64bigplanetcom\" + -0.120*\"jason\"')\n",
      "(58, '-0.278*\"reportxls\" + -0.233*\"httpexplorermsncomintlasp\" + -0.229*\"msn\" + -0.219*\"explorer\" + 0.188*\"hourahead\" + 0.154*\"marie\" + 0.151*\"manual\" + 0.149*\"intervention\" + 0.129*\"failed\" + 0.124*\"nyiso\"')\n",
      "(59, '-0.453*\"gerald\" + -0.184*\"nemec\" + -0.163*\"hpl\" + -0.159*\"sally\" + -0.157*\"bass\" + -0.155*\"lynn\" + 0.144*\"daren\" + -0.141*\"pge\" + -0.140*\"teco\" + -0.138*\"eric\"')\n",
      "(60, '-0.243*\"sally\" + 0.200*\"gerald\" + 0.191*\"list\" + -0.140*\"lynn\" + -0.126*\"pl\" + -0.116*\"nymex\" + -0.111*\"communicationsenron\" + -0.109*\"outage\" + -0.104*\"hpl\" + -0.101*\"teco\"')\n",
      "(61, '0.219*\"sally\" + 0.218*\"pl\" + 0.186*\"marie\" + -0.172*\"hpl\" + -0.152*\"teco\" + 0.137*\"communicationsenron\" + -0.134*\"mark\" + -0.128*\"tap\" + 0.128*\"tana\" + 0.119*\"meter\"')\n",
      "(62, '-0.327*\"gerald\" + 0.244*\"mark\" + -0.233*\"louise\" + 0.207*\"ben\" + 0.196*\"bass\" + -0.176*\"ferc\" + -0.158*\"kitchen\" + -0.137*\"nemec\" + 0.119*\"eric\" + 0.115*\"credit\"')\n",
      "(63, '-0.201*\"draft\" + 0.165*\"gerald\" + -0.153*\"mark\" + -0.139*\"sally\" + -0.137*\"meter\" + 0.128*\"seller\" + 0.128*\"ben\" + 0.125*\"nyiso\" + 0.123*\"iso\" + -0.122*\"isda\"')\n",
      "(64, '0.256*\"gerald\" + 0.245*\"ben\" + -0.228*\"seller\" + -0.183*\"je\" + -0.183*\"707\" + -0.170*\"nancy\" + -0.163*\"prentice\" + 0.150*\"daren\" + -0.146*\"cameron\" + -0.140*\"mark\"')\n",
      "(65, '-0.352*\"lynn\" + 0.208*\"sally\" + 0.201*\"tracy\" + 0.183*\"rod\" + -0.174*\"blair\" + -0.169*\"mark\" + 0.144*\"geaccone\" + -0.144*\"pl\" + 0.140*\"kevin\" + -0.131*\"conference\"')\n",
      "(66, '-0.257*\"ben\" + 0.175*\"bass\" + 0.172*\"pl\" + -0.142*\"seller\" + -0.121*\"joe\" + -0.119*\"isda\" + -0.115*\"meter\" + -0.114*\"daren\" + -0.110*\"je\" + -0.109*\"707\"')\n",
      "(67, '0.272*\"letter\" + 0.214*\"pl\" + 0.134*\"pge\" + 0.120*\"list\" + 0.112*\"counterparty\" + 0.109*\"referenced\" + -0.106*\"kaymannenroncom\" + 0.105*\"communicationsenron\" + 0.105*\"product\" + -0.102*\"chris\"')\n",
      "(68, '-0.328*\"pl\" + -0.274*\"ben\" + -0.260*\"sally\" + -0.157*\"mark\" + -0.135*\"isda\" + 0.114*\"book\" + -0.112*\"ferc\" + -0.103*\"jeff\" + 0.103*\"meter\" + -0.101*\"member\"')\n",
      "(69, '-0.254*\"ben\" + 0.247*\"isda\" + 0.232*\"pl\" + -0.196*\"pge\" + 0.151*\"marie\" + -0.127*\"agreement\" + -0.118*\"referenced\" + -0.111*\"list\" + -0.110*\"conference\" + 0.109*\"reportxls\"')\n",
      "(70, '-0.262*\"marie\" + 0.247*\"pl\" + -0.163*\"letter\" + 0.129*\"seller\" + 0.121*\"daren\" + -0.114*\"jeff\" + 0.114*\"je\" + 0.113*\"707\" + -0.109*\"ben\" + 0.103*\"rod\"')\n",
      "(71, '-0.303*\"ben\" + -0.225*\"marie\" + -0.136*\"daren\" + 0.114*\"tracy\" + -0.108*\"list\" + -0.108*\"meter\" + -0.107*\"trading\" + -0.106*\"netting\" + -0.105*\"mark\" + 0.105*\"student\"')\n",
      "(72, '0.180*\"pl\" + -0.178*\"nymex\" + -0.173*\"list\" + -0.153*\"member\" + 0.138*\"sally\" + -0.127*\"nyiso\" + 0.125*\"password\" + 0.115*\"conference\" + 0.115*\"user\" + -0.109*\"office\"')\n",
      "(73, '0.158*\"wollam\" + 0.152*\"joe\" + -0.148*\"michelle\" + 0.145*\"erik\" + -0.141*\"reportxls\" + 0.135*\"chet\" + -0.130*\"richard\" + 0.129*\"constantine\" + 0.124*\"fenner\" + -0.121*\"ben\"')\n",
      "(74, '-0.136*\"nymex\" + 0.132*\"pl\" + 0.128*\"pager\" + 0.128*\"wollam\" + 0.122*\"iso\" + 0.119*\"erik\" + -0.117*\"ben\" + -0.112*\"susan\" + -0.110*\"member\" + 0.105*\"nyiso\"')\n",
      "(75, '0.195*\"list\" + -0.151*\"risk\" + -0.147*\"iso\" + -0.141*\"meter\" + -0.134*\"daren\" + -0.125*\"monika\" + 0.125*\"ge\" + -0.124*\"tracy\" + -0.122*\"nda\" + -0.102*\"rod\"')\n",
      "(76, '-0.224*\"isda\" + 0.219*\"elizabeth\" + 0.132*\"sager\" + 0.131*\"marie\" + -0.129*\"nda\" + 0.123*\"monika\" + 0.117*\"8779260615skytelcom\" + 0.117*\"pmail\" + 0.117*\"7133453200\" + 0.116*\"8779260615\"')\n",
      "(77, '0.155*\"rod\" + 0.148*\"letter\" + 0.130*\"tracy\" + -0.118*\"isda\" + -0.116*\"8779260615skytelcom\" + -0.116*\"pmail\" + -0.116*\"7133453200\" + -0.115*\"8779260615\" + -0.113*\"deal\" + -0.111*\"monika\"')\n",
      "(78, '0.168*\"iso\" + 0.166*\"credit\" + 0.143*\"ferc\" + 0.134*\"letter\" + -0.125*\"monika\" + -0.118*\"pge\" + -0.111*\"nymex\" + -0.109*\"nyiso\" + 0.107*\"nda\" + 0.097*\"order\"')\n",
      "(79, '-0.324*\"monika\" + -0.162*\"causholli\" + 0.160*\"kevin\" + -0.155*\"btu\" + -0.129*\"counterparty\" + -0.125*\"weekly\" + 0.125*\"elizabeth\" + 0.119*\"mike\" + -0.109*\"report\" + 0.103*\"nyiso\"')\n",
      "(80, '-0.363*\"monika\" + -0.176*\"causholli\" + -0.121*\"letter\" + 0.113*\"counterparty\" + 0.112*\"student\" + -0.107*\"credit\" + 0.105*\"susan\" + -0.101*\"ena\" + 0.100*\"haas\" + 0.098*\"lebrocq\"')\n",
      "(81, '0.373*\"monika\" + -0.244*\"rick\" + 0.181*\"causholli\" + -0.163*\"letter\" + -0.129*\"risk\" + 0.129*\"order\" + -0.122*\"tana\" + 0.116*\"shirley\" + 0.106*\"request\" + 0.102*\"transaction\"')\n",
      "(82, '0.320*\"monika\" + -0.169*\"nda\" + -0.156*\"marie\" + 0.155*\"causholli\" + -0.152*\"rick\" + -0.134*\"daily\" + -0.108*\"document\" + 0.105*\"mark\" + -0.103*\"richard\" + 0.102*\"ben\"')\n",
      "(83, '-0.234*\"credit\" + -0.180*\"trade\" + -0.176*\"elizabeth\" + 0.154*\"isda\" + 0.151*\"pge\" + 0.144*\"letter\" + -0.143*\"pl\" + -0.138*\"leslie\" + -0.126*\"ge\" + -0.121*\"restricted\"')\n",
      "(84, '0.324*\"rick\" + 0.212*\"monika\" + 0.186*\"marie\" + -0.164*\"btu\" + 0.163*\"ge\" + 0.146*\"nda\" + -0.142*\"phillip\" + -0.126*\"elizabeth\" + -0.113*\"weekly\" + 0.107*\"guaranty\"')\n",
      "(85, '0.284*\"ge\" + -0.270*\"rick\" + -0.163*\"nda\" + -0.130*\"michelle\" + 0.130*\"turbine\" + 0.127*\"dan\" + -0.117*\"lebrocq\" + 0.116*\"mark\" + -0.111*\"wendi\" + 0.109*\"letter\"')\n",
      "(86, '-0.207*\"classtd2\" + 0.200*\"ge\" + 0.164*\"isda\" + 0.152*\"michelle\" + -0.140*\"btu\" + -0.118*\"drew\" + 0.111*\"canada\" + -0.099*\"credit\" + -0.097*\"sara\" + -0.093*\"nelson\"')\n",
      "(87, '-0.313*\"rick\" + -0.306*\"btu\" + -0.166*\"weekly\" + 0.140*\"shirley\" + 0.128*\"stinson\" + 0.121*\"model\" + 0.118*\"richard\" + 0.110*\"zimin\" + -0.104*\"7327588222\" + -0.104*\"7327588286\"')\n",
      "(88, '-0.215*\"michelle\" + -0.176*\"btu\" + 0.153*\"nelson\" + -0.147*\"dan\" + -0.145*\"amanda\" + 0.143*\"monika\" + 0.134*\"rick\" + 0.132*\"ge\" + -0.130*\"rybarski\" + -0.123*\"dorland\"')\n",
      "(89, '-0.242*\"btu\" + 0.172*\"classtd2\" + -0.155*\"marie\" + 0.154*\"phillip\" + -0.136*\"pl\" + 0.127*\"book\" + -0.125*\"weekly\" + 0.121*\"matchcom\" + 0.119*\"griffith\" + 0.105*\"conference\"')\n",
      "(90, '-0.246*\"matchcom\" + 0.204*\"ge\" + 0.156*\"nda\" + 0.145*\"michelle\" + 0.121*\"robin\" + -0.117*\"nelson\" + -0.113*\"profile\" + 0.110*\"amanda\" + -0.108*\"dan\" + 0.106*\"classtd2\"')\n",
      "(91, '0.231*\"nda\" + -0.217*\"rick\" + -0.160*\"shirley\" + 0.132*\"eol\" + -0.127*\"isda\" + 0.125*\"credit\" + -0.120*\"classtd2\" + 0.109*\"0\" + 0.099*\"canada\" + 0.098*\"response\"')\n",
      "(92, '0.205*\"griffith\" + -0.180*\"matchcom\" + 0.176*\"dg\" + 0.173*\"alexandra\" + -0.171*\"drew\" + 0.166*\"villarreal\" + -0.166*\"phillip\" + -0.148*\"ge\" + 0.140*\"october\" + 0.134*\"robin\"')\n",
      "(93, '-0.235*\"elizabeth\" + 0.226*\"rick\" + -0.182*\"classtd2\" + -0.144*\"btu\" + -0.131*\"sager\" + 0.123*\"drew\" + 0.112*\"credit\" + 0.112*\"richard\" + 0.111*\"dg\" + 0.109*\"marie\"')\n",
      "(94, '0.370*\"matchcom\" + 0.202*\"btu\" + 0.174*\"profile\" + 0.156*\"anonymous\" + 0.113*\"person\" + -0.107*\"griffith\" + -0.099*\"office\" + 0.098*\"weekly\" + 0.094*\"robin\" + -0.091*\"enjoy\"')\n",
      "(95, '-0.184*\"nda\" + -0.178*\"shirley\" + 0.178*\"michelle\" + -0.170*\"robin\" + -0.162*\"elizabeth\" + -0.161*\"stinson\" + -0.145*\"btu\" + 0.134*\"phillip\" + -0.127*\"rick\" + -0.126*\"nelson\"')\n",
      "(96, '0.194*\"btu\" + 0.158*\"0\" + 0.145*\"richard\" + -0.141*\"rick\" + 0.133*\"quantity\" + 0.130*\"cd\" + -0.113*\"ap\" + 0.111*\"bass\" + -0.108*\"phillip\" + 0.106*\"presentation\"')\n",
      "(97, '-0.288*\"shirley\" + -0.174*\"stinson\" + 0.165*\"phillip\" + -0.148*\"dg\" + 0.136*\"elizabeth\" + -0.130*\"crenshaw\" + 0.128*\"richard\" + -0.126*\"research\" + -0.122*\"zimin\" + -0.121*\"0\"')\n",
      "(98, '0.290*\"elizabeth\" + 0.212*\"nda\" + 0.179*\"dg\" + 0.167*\"counterparty\" + 0.166*\"sager\" + 0.152*\"shirley\" + 0.129*\"matchcom\" + -0.126*\"robin\" + -0.112*\"phillip\" + -0.109*\"btu\"')\n",
      "(99, '-0.269*\"phillip\" + 0.241*\"robin\" + 0.223*\"dg\" + 0.176*\"regard\" + -0.164*\"btu\" + -0.161*\"rick\" + 0.155*\"delainey\" + 0.130*\"pl\" + 0.106*\"book\" + -0.104*\"elizabeth\"')\n"
     ]
    }
   ],
   "source": [
    "## Creating a lsi model by using tf idf\n",
    "\n",
    "matrix = [dictionary.doc2bow(doc) for doc in training_set]\n",
    "\n",
    "tfidf_model = gensim.models.TfidfModel(matrix, id2word=dictionary)\n",
    "lsi_model = gensim.models.LsiModel(tfidf_model[matrix], id2word=dictionary, num_topics=100)\n",
    "\n",
    "topics = lsi_model.print_topics(num_topics=100, num_words=10)\n"
   ]
  }
 ],
 "metadata": {
  "kernelspec": {
   "display_name": "Python 3",
   "language": "python",
   "name": "python3"
  },
  "language_info": {
   "codemirror_mode": {
    "name": "ipython",
    "version": 3
   },
   "file_extension": ".py",
   "mimetype": "text/x-python",
   "name": "python",
   "nbconvert_exporter": "python",
   "pygments_lexer": "ipython3",
   "version": "3.5.1"
  }
 },
 "nbformat": 4,
 "nbformat_minor": 2
}
